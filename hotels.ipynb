{
 "cells": [
  {
   "cell_type": "code",
   "execution_count": 2,
   "metadata": {},
   "outputs": [],
   "source": [
    "import pandas as pd\r\n",
    "\r\n",
    "df = pd.read_csv('data/train.csv')"
   ]
  },
  {
   "cell_type": "code",
   "execution_count": 45,
   "metadata": {},
   "outputs": [
    {
     "data": {
      "text/html": "<div>\n<style scoped>\n    .dataframe tbody tr th:only-of-type {\n        vertical-align: middle;\n    }\n\n    .dataframe tbody tr th {\n        vertical-align: top;\n    }\n\n    .dataframe thead th {\n        text-align: right;\n    }\n</style>\n<table border=\"1\" class=\"dataframe\">\n  <thead>\n    <tr style=\"text-align: right;\">\n      <th></th>\n      <th>image</th>\n      <th>chain</th>\n      <th>hotel_id</th>\n      <th>timestamp</th>\n    </tr>\n  </thead>\n  <tbody>\n    <tr>\n      <th>7</th>\n      <td>800e7dd55ffa4056.jpg</td>\n      <td>2</td>\n      <td>60181</td>\n      <td>2018-06-07 20:38:43</td>\n    </tr>\n    <tr>\n      <th>8</th>\n      <td>8011ffce8971daa3.jpg</td>\n      <td>87</td>\n      <td>19657</td>\n      <td>2017-05-27 00:04:06</td>\n    </tr>\n    <tr>\n      <th>16</th>\n      <td>8028cf47a37b369d.jpg</td>\n      <td>0</td>\n      <td>35733</td>\n      <td>2019-08-22 01:48:33</td>\n    </tr>\n    <tr>\n      <th>41</th>\n      <td>80361761cd3d6f6a.jpg</td>\n      <td>0</td>\n      <td>35733</td>\n      <td>2019-08-30 01:39:12</td>\n    </tr>\n    <tr>\n      <th>58</th>\n      <td>803e49f1b398ecd3.jpg</td>\n      <td>6</td>\n      <td>37728</td>\n      <td>2019-02-11 17:37:49</td>\n    </tr>\n    <tr>\n      <th>...</th>\n      <td>...</td>\n      <td>...</td>\n      <td>...</td>\n      <td>...</td>\n    </tr>\n    <tr>\n      <th>97481</th>\n      <td>fffc8001cefe3021.jpg</td>\n      <td>78</td>\n      <td>48961</td>\n      <td>2016-10-18 01:20:17</td>\n    </tr>\n    <tr>\n      <th>97498</th>\n      <td>fffe14e0c01c3626.jpg</td>\n      <td>4</td>\n      <td>41325</td>\n      <td>2017-03-31 02:45:03</td>\n    </tr>\n    <tr>\n      <th>97520</th>\n      <td>ffff1322e08c1033.jpg</td>\n      <td>82</td>\n      <td>7046</td>\n      <td>2016-09-14 17:48:28</td>\n    </tr>\n    <tr>\n      <th>97534</th>\n      <td>ffff348083cb0d20.jpg</td>\n      <td>0</td>\n      <td>26131</td>\n      <td>2017-05-22 04:13:56</td>\n    </tr>\n    <tr>\n      <th>97550</th>\n      <td>ffff807480f58045.jpg</td>\n      <td>0</td>\n      <td>56160</td>\n      <td>2016-06-25 15:23:35</td>\n    </tr>\n  </tbody>\n</table>\n<p>13991 rows × 4 columns</p>\n</div>",
      "text/plain": "                      image  chain  hotel_id            timestamp\n7      800e7dd55ffa4056.jpg      2     60181  2018-06-07 20:38:43\n8      8011ffce8971daa3.jpg     87     19657  2017-05-27 00:04:06\n16     8028cf47a37b369d.jpg      0     35733  2019-08-22 01:48:33\n41     80361761cd3d6f6a.jpg      0     35733  2019-08-30 01:39:12\n58     803e49f1b398ecd3.jpg      6     37728  2019-02-11 17:37:49\n...                     ...    ...       ...                  ...\n97481  fffc8001cefe3021.jpg     78     48961  2016-10-18 01:20:17\n97498  fffe14e0c01c3626.jpg      4     41325  2017-03-31 02:45:03\n97520  ffff1322e08c1033.jpg     82      7046  2016-09-14 17:48:28\n97534  ffff348083cb0d20.jpg      0     26131  2017-05-22 04:13:56\n97550  ffff807480f58045.jpg      0     56160  2016-06-25 15:23:35\n\n[13991 rows x 4 columns]"
     },
     "execution_count": 45,
     "metadata": {},
     "output_type": "execute_result"
    }
   ],
   "source": [
    "df.groupby('hotel_id').filter(lambda x : len(x)>50)"
   ]
  }
 ],
 "metadata": {
  "kernelspec": {
   "display_name": "Python 3.8.8 64-bit ('py38-hotel': conda)",
   "name": "python388jvsc74a57bd046e16dc5765237a024e1f11c34a9a67322fdcdedd6cc2d0be7272ca72acaf593"
  },
  "language_info": {
   "name": "python",
   "version": ""
  },
  "orig_nbformat": 2
 },
 "nbformat": 4,
 "nbformat_minor": 2
}