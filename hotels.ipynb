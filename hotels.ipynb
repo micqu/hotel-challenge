{
 "cells": [
  {
   "cell_type": "code",
   "execution_count": 1,
   "metadata": {},
   "outputs": [],
   "source": [
    "import pandas as pd\r\n",
    "\r\n",
    "df = pd.read_csv('data/train.csv')"
   ]
  },
  {
   "cell_type": "code",
   "execution_count": 5,
   "metadata": {},
   "outputs": [
    {
     "data": {
      "text/plain": "36363    95\n53586    95\n18807    92\n64314    87\n60181    86\n17759    84\n4869     84\n18661    83\n6831     83\n1740     82\n36976    82\n37003    82\n10157    82\n58739    82\n62362    81\n36832    81\n24421    80\n40933    80\n63387    80\n53768    80\n41325    80\n3667     80\n17437    80\n4784     80\n59816    80\n29126    79\n21745    79\n21998    79\n24833    79\n25454    79\n28427    79\n1066     79\n10508    78\n17590    78\n42364    78\n6524     78\n45826    78\n16505    77\n53848    77\n39600    77\n45612    77\n10263    77\n48897    76\n5913     76\n25733    76\n24695    76\n7833     76\n18002    76\n28917    76\n4144     76\nName: hotel_id, dtype: int64"
     },
     "execution_count": 5,
     "metadata": {},
     "output_type": "execute_result"
    }
   ],
   "source": [
    "df.hotel_id.value_counts()[:50]"
   ]
  }
 ],
 "metadata": {
  "kernelspec": {
   "display_name": "Python 3.8.8 64-bit ('py38-hotel': conda)",
   "name": "python388jvsc74a57bd046e16dc5765237a024e1f11c34a9a67322fdcdedd6cc2d0be7272ca72acaf593"
  },
  "language_info": {
   "codemirror_mode": {
    "name": "ipython",
    "version": 3
   },
   "file_extension": ".py",
   "mimetype": "text/x-python",
   "name": "python",
   "nbconvert_exporter": "python",
   "pygments_lexer": "ipython3",
   "version": "3.8.8"
  },
  "orig_nbformat": 2
 },
 "nbformat": 4,
 "nbformat_minor": 2
}